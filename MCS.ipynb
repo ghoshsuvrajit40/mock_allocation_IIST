{
 "cells": [
  {
   "cell_type": "code",
   "execution_count": 25,
   "metadata": {},
   "outputs": [],
   "source": [
    "import pandas as pd\n",
    "import numpy as np\n",
    "from matplotlib import pyplot as plt\n",
    "from urllib.request import urlretrieve\n",
    "from gsheets import Sheets"
   ]
  },
  {
   "cell_type": "code",
   "execution_count": 26,
   "metadata": {},
   "outputs": [],
   "source": [
    "Seat_Matrix = dict()\n",
    "Seat_Matrix['IPRC'] = 1\n",
    "Seat_Matrix['ISTRAC'] = 6\n",
    "Seat_Matrix['NRSC'] = 2\n",
    "Seat_Matrix['LPSC'] = 1\n",
    "Seat_Matrix['MCF'] = 1\n",
    "Seat_Matrix['PRL'] = 2\n",
    "Seat_Matrix['SAC'] = 3\n",
    "Seat_Matrix['SCL'] = 2\n",
    "Seat_Matrix['SDSC'] = 5\n",
    "Seat_Matrix['URSC'] = 5\n",
    "Seat_Matrix['VSSC'] = 5\n",
    "\n",
    "HSP_included = False\n",
    "\n",
    "max_rank = 34\n",
    "if HSP_included:\n",
    "    max_rank = 38\n",
    "    Seat_Matrix['HSP'] = 4\n",
    "\n",
    "centers = Seat_Matrix.keys()"
   ]
  },
  {
   "cell_type": "code",
   "execution_count": 27,
   "metadata": {},
   "outputs": [
    {
     "name": "stdout",
     "output_type": "stream",
     "text": [
      "Index(['Timestamp', 'Name', 'Student Code(Last Three Digits)', 'Rank',\n",
      "       'Preference order [IPRC]', 'Preference order [ISTRAC]',\n",
      "       'Preference order [LPSC]', 'Preference order [MCF]',\n",
      "       'Preference order [NRSC]', 'Preference order [PRL]',\n",
      "       'Preference order [SAC]', 'Preference order [SCL]',\n",
      "       'Preference order [SDSC]', 'Preference order [URSC]',\n",
      "       'Preference order [VSSC]', 'Email Address'],\n",
      "      dtype='object')\n"
     ]
    }
   ],
   "source": [
    "df = pd.read_csv('Responses.csv')\n",
    "print(df.columns)\n",
    "len(df)\n",
    "\n",
    "rank_name = dict()\n",
    "ranks = pd.read_csv('ISRORanks.csv')\n",
    "for i in range(len(ranks)):\n",
    "    rank_name[ranks['Rank'][i]] = ranks['Name'][i] "
   ]
  },
  {
   "cell_type": "code",
   "execution_count": 28,
   "metadata": {},
   "outputs": [],
   "source": [
    "data = dict()\n",
    "for i in range(len(df)):\n",
    "    data[df['Rank'][i]] = dict()\n",
    "    data[df['Rank'][i]]['Name'] = df['Name'][i]\n",
    "    data[df['Rank'][i]]['Preferences'] = []\n",
    "    for j in range(11):\n",
    "        for center in centers:\n",
    "            if df['Preference order ['+center+']'][i] == j+1:\n",
    "                data[df['Rank'][i]]['Preferences'].append(center)\n",
    "                continue"
   ]
  },
  {
   "cell_type": "code",
   "execution_count": 29,
   "metadata": {},
   "outputs": [
    {
     "name": "stdout",
     "output_type": "stream",
     "text": [
      "********************MOCK Allocation Results********************\n",
      "Allocating 2 rank , Debajyoti Chakrabarti => URSC (Preference Number : 1)\n",
      "Allocating 3 rank , Srinika Selvam => URSC (Preference Number : 1)\n",
      "Allocating 4 rank , Anuj Malik => URSC (Preference Number : 1)\n",
      "Allocating 5 rank , Archana => VSSC (Preference Number : 1)\n",
      "Allocating 6 rank , Himanshu Saini => SAC (Preference Number : 1)\n",
      "Allocating 7 rank , Sneha Gem Matthew => VSSC (Preference Number : 1)\n",
      "Allocating 8 rank , Chinmay S Mhatre => URSC (Preference Number : 1)\n",
      "Allocating 9 rank , Sri Lakshmi Swetha Gomada => URSC (Preference Number : 1)\n",
      "Allocating 10 rank , Kaninika Pant => SAC (Preference Number : 2)\n",
      "Allocating 11 rank , Reuben Chacko Thomas => VSSC (Preference Number : 1)\n",
      "Allocating 12 rank , Kaustubh Datar => PRL (Preference Number : 1)\n",
      "Allocating 13 rank , Pragya Shah => SAC (Preference Number : 2)\n",
      "Allocating 14 rank , Rohit Gandikota => NRSC (Preference Number : 3)\n",
      "Allocating 15 rank , Suraj R => VSSC (Preference Number : 2)\n",
      "Allocating 16 rank , Ansuman Palo => ISTRAC (Preference Number : 2)\n",
      "Allocating 17 rank , Samvram Sahu => NRSC (Preference Number : 3)\n",
      "Allocating 18 rank , Arnab Karmakar => VSSC (Preference Number : 4)\n",
      "Allocating 19 rank , Susmitha Suresh => LPSC (Preference Number : 2)\n",
      "Allocating 20 rank , Sagnik Dutta => ISTRAC (Preference Number : 1)\n",
      "Allocating 21 rank , Shubham Chauhan => SCL (Preference Number : 2)\n",
      "Allocating 22 rank , Boyapati Ujjwala => ISTRAC (Preference Number : 2)\n",
      "Allocating 23 rank , Sahal Mohammad => ISTRAC (Preference Number : 3)\n",
      "Allocating 24 rank , Divyang Arora => ISTRAC (Preference Number : 4)\n",
      "Allocating 25 rank , Mohit Kumar Soni => PRL (Preference Number : 2)\n",
      "Allocating 26 rank , Raju Joarder => ISTRAC (Preference Number : 1)\n",
      "Allocating 27 rank , Greeshma Battula => SDSC (Preference Number : 6)\n",
      "Allocating 28 rank , Sanidhya Vijaywat => SDSC (Preference Number : 4)\n",
      "Allocating 29 rank , Vamshi T. Bollam  => SDSC (Preference Number : 8)\n",
      "Allocating 30 rank , Neel Menpara => SDSC (Preference Number : 5)\n",
      "Allocating 31 rank , Kamna Kohli => SCL (Preference Number : 4)\n",
      "Allocating 32 rank , Rashmi => IPRC (Preference Number : 7)\n",
      "Allocating 33 rank , Deepshikha => MCF (Preference Number : 9)\n",
      "Allocating 34 rank , Anurag Shukla => SDSC (Preference Number : **)\n"
     ]
    },
    {
     "data": {
      "image/png": "[encoded data removed]",
      "text/plain": [
       "<Figure size 432x288 with 1 Axes>"
      ]
     },
     "metadata": {},
     "output_type": "display_data"
    }
   ],
   "source": [
    "Seat_Matrix_CC = Seat_Matrix.copy()\n",
    "hit_list = np.zeros(len(centers)+1)\n",
    "Seat_Matrix_availability = dict()\n",
    "for center in centers:\n",
    "    Seat_Matrix_availability[center] = []\n",
    "print('********************MOCK Allocation Results********************')\n",
    "for rank in range(2,max_rank):\n",
    "    if rank in data.keys():\n",
    "        for center in centers:\n",
    "            Seat_Matrix_availability[center].append(Seat_Matrix_CC[center])\n",
    "        flag = True\n",
    "        i=0\n",
    "        while flag:\n",
    "            if Seat_Matrix_CC[data[rank]['Preferences'][i]]!=0:\n",
    "                print('Allocating %d rank '%(rank)+', '+rank_name[rank]+' => '+data[rank]['Preferences'][i]+' (Preference Number : %d)'%(i+1))\n",
    "                data[rank]['Allocation'] = data[rank]['Preferences'][i]\n",
    "                data[rank]['Choice_Number'] = i+1\n",
    "                Seat_Matrix_CC[data[rank]['Preferences'][i]] -= 1\n",
    "                flag = False\n",
    "                hit_list[i+1]+=1\n",
    "            i = i+1\n",
    "\n",
    "data[max_rank] = dict()\n",
    "for center in centers:\n",
    "    if Seat_Matrix_CC[center]!=0:\n",
    "        data[max_rank]['Allocation'] = center\n",
    "        print('Allocating %d rank '%(max_rank)+', '+rank_name[max_rank]+' => '+data[max_rank]['Allocation']+' (Preference Number : **)')\n",
    "        \n",
    "plt.bar(range(12),hit_list)\n",
    "plt.xlabel('Preference Number Allocated')\n",
    "plt.ylabel('Total Number of Allocations')\n",
    "plt.title('Allocations vs Preference')\n",
    "plt.show()"
   ]
  },
  {
   "cell_type": "code",
   "execution_count": 30,
   "metadata": {},
   "outputs": [],
   "source": [
    "df_out = dict()\n",
    "df_out['Name'] = []\n",
    "df_out['Rank'] = []\n",
    "df_out['Allocation'] = []\n",
    "for rank in range(2, max_rank):\n",
    "    if rank in data.keys():\n",
    "        df_out['Name'].append(data[rank]['Name'])\n",
    "        df_out['Allocation'].append(data[rank]['Allocation'])\n",
    "        df_out['Rank'].append(rank)\n",
    "df_out = pd.DataFrame(df_out)\n",
    "with open('Allocations.csv','w') as f:\n",
    "    df_out.to_csv(f)"
   ]
  },
  {
   "cell_type": "code",
   "execution_count": 31,
   "metadata": {},
   "outputs": [
    {
     "name": "stdout",
     "output_type": "stream",
     "text": [
      "Average Preference - 1 being highest\n",
      "URSC --> 1.9558823529411764\n",
      "SAC --> 3.411764705882353\n",
      "VSSC --> 4.102941176470588\n",
      "ISTRAC --> 5.0\n",
      "NRSC --> 5.5588235294117645\n",
      "PRL --> 5.764705882352941\n",
      "SDSC --> 6.264705882352941\n",
      "SCL --> 6.617647058823529\n",
      "LPSC --> 8.117647058823529\n",
      "MCF --> 9.058823529411764\n",
      "IPRC --> 10.147058823529411\n"
     ]
    },
    {
     "data": {
      "image/png": "[encoded data removed]",
      "text/plain": [
       "<Figure size 432x288 with 1 Axes>"
      ]
     },
     "metadata": {},
     "output_type": "display_data"
    }
   ],
   "source": [
    "preference_stats = dict()\n",
    "for center in centers:\n",
    "    preference_stats[center] = 0\n",
    "\n",
    "for i in range(len(df)):\n",
    "    for center in centers:\n",
    "        preference_stats[center] += df['Preference order ['+center+']'][i]\n",
    "        \n",
    "for center in centers:\n",
    "    preference_stats[center] = preference_stats[center]/len(df) \n",
    "\n",
    "average_preference = sorted(preference_stats.items(), key = lambda kv:(kv[1], kv[0]))\n",
    "\n",
    "plot_val = []\n",
    "center_order = []\n",
    "print('Average Preference - 1 being highest')\n",
    "for i in range(len(average_preference)):\n",
    "    print(average_preference[i][0]+' --> '+str(average_preference[i][1]))\n",
    "    plot_val.append(11-average_preference[i][1])\n",
    "    center_order.append(average_preference[i][0])\n",
    "    \n",
    "plt.figure()\n",
    "plt.bar(range(11),plot_val)\n",
    "for i in range(11):\n",
    "    plt.annotate(center_order[i], (i-0.45, plot_val[i]))\n",
    "    \n",
    "plt.title('Avg Center Preference')\n",
    "plt.ylabel('Preference ->')\n",
    "plt.show()"
   ]
  },
  {
   "cell_type": "code",
   "execution_count": 32,
   "metadata": {},
   "outputs": [],
   "source": [
    "pref_df = dict()\n",
    "for i in range(2,max_rank):\n",
    "    pref_df['Rank %d'%(i)] = data[i]['Preferences']\n",
    "\n",
    "pref_df = pd.DataFrame(pref_df)\n",
    "with open('Preferences_all.csv','w') as f:\n",
    "    pref_df.to_csv(f)"
   ]
  },
  {
   "cell_type": "code",
   "execution_count": 33,
   "metadata": {},
   "outputs": [],
   "source": [
    "sma_df = pd.DataFrame(Seat_Matrix_availability)\n",
    "with open('SeatMatrixEvolve.csv','w') as f:\n",
    "    sma_df.to_csv(f)"
   ]
  },
  {
   "cell_type": "code",
   "execution_count": 40,
   "metadata": {},
   "outputs": [
    {
     "name": "stdout",
     "output_type": "stream",
     "text": [
      "Allocations\n",
      "MCF\n",
      "==================\n",
      "Deepshikha\n",
      "==================\n",
      "SAC\n",
      "==================\n",
      "Himanshu Saini\n",
      "Kaninika Pant\n",
      "Pragya Shah\n",
      "==================\n",
      "VSSC\n",
      "==================\n",
      "Archana\n",
      "Sneha Gem Matthew\n",
      "Reuben Chacko Thomas\n",
      "Suraj R\n",
      "Arnab Karmakar\n",
      "==================\n",
      "PRL\n",
      "==================\n",
      "Kaustubh Datar\n",
      "Mohit Kumar Soni\n",
      "==================\n",
      "IPRC\n",
      "==================\n",
      "Rashmi\n",
      "==================\n",
      "ISTRAC\n",
      "==================\n",
      "Ansuman Palo\n",
      "Sagnik Dutta\n",
      "Boyapati Ujjwala\n",
      "Sahal Mohammad\n",
      "Divyang Arora\n",
      "Raju Joarder\n",
      "==================\n",
      "SDSC\n",
      "==================\n",
      "Greeshma Battula\n",
      "Sanidhya Vijaywat\n",
      "Vamshi T. Bollam \n",
      "Neel Menpara\n",
      "==================\n",
      "URSC\n",
      "==================\n",
      "Debajyoti Chakrabarti\n",
      "Srinika Selvam\n",
      "Anuj Malik\n",
      "Chinmay S Mhatre\n",
      "Sri Lakshmi Swetha Gomada\n",
      "==================\n",
      "NRSC\n",
      "==================\n",
      "Rohit Gandikota\n",
      "Samvram Sahu\n",
      "==================\n",
      "SCL\n",
      "==================\n",
      "Shubham Chauhan\n",
      "Kamna Kohli\n",
      "==================\n",
      "LPSC\n",
      "==================\n",
      "Susmitha Suresh\n",
      "==================\n"
     ]
    }
   ],
   "source": [
    "print('Allocations')\n",
    "for center in centers:\n",
    "    print(center)\n",
    "    print('==================')\n",
    "    for i in range(2,max_rank):\n",
    "        if data[i]['Allocation'] is center:\n",
    "            print(rank_name[i])\n",
    "    print('==================')"
   ]
  }
 ],
 "metadata": {
  "kernelspec": {
   "display_name": "Python 3",
   "language": "python",
   "name": "python3"
  },
  "language_info": {
   "codemirror_mode": {
    "name": "ipython",
    "version": 3
   },
   "file_extension": ".py",
   "mimetype": "text/x-python",
   "name": "python",
   "nbconvert_exporter": "python",
   "pygments_lexer": "ipython3",
   "version": "3.5.3"
  }
 },
 "nbformat": 4,
 "nbformat_minor": 2
}
