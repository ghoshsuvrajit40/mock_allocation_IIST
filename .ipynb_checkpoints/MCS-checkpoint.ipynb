{
 "cells": [
  {
   "cell_type": "code",
   "execution_count": 17,
   "metadata": {},
   "outputs": [],
   "source": [
    "import pandas as pd\n",
    "import numpy as np\n",
    "from matplotlib import pyplot as plt"
   ]
  },
  {
   "cell_type": "code",
   "execution_count": 2,
   "metadata": {},
   "outputs": [],
   "source": [
    "Seat_Matrix = dict()\n",
    "Seat_Matrix['IPRC'] = 1\n",
    "Seat_Matrix['ISTRAC'] = 6\n",
    "Seat_Matrix['NRSC'] = 2\n",
    "Seat_Matrix['LPSC'] = 1\n",
    "Seat_Matrix['MCF'] = 1\n",
    "Seat_Matrix['PRL'] = 2\n",
    "Seat_Matrix['SAC'] = 3\n",
    "Seat_Matrix['SCL'] = 2\n",
    "Seat_Matrix['SDSC'] = 5\n",
    "Seat_Matrix['URSC'] = 5\n",
    "Seat_Matrix['VSSC'] = 5\n",
    "\n",
    "HSP_included = False\n",
    "\n",
    "max_rank = 33\n",
    "if HSP_included:\n",
    "    max_rank = 38\n",
    "    Seat_Matrix['HSP'] = 4\n",
    "\n",
    "centers = Seat_Matrix.keys()"
   ]
  },
  {
   "cell_type": "code",
   "execution_count": 3,
   "metadata": {},
   "outputs": [
    {
     "name": "stdout",
     "output_type": "stream",
     "text": [
      "Index(['Timestamp', 'Name', 'Student Code(Last Three Digits)', 'Rank',\n",
      "       'Preference order [IPRC]', 'Preference order [ISTRAC]',\n",
      "       'Preference order [LPSC]', 'Preference order [MCF]',\n",
      "       'Preference order [NRSC]', 'Preference order [PRL]',\n",
      "       'Preference order [SAC]', 'Preference order [SCL]',\n",
      "       'Preference order [SDSC]', 'Preference order [URSC]',\n",
      "       'Preference order [VSSC]', 'Email Address'],\n",
      "      dtype='object')\n"
     ]
    },
    {
     "data": {
      "text/plain": [
       "35"
      ]
     },
     "execution_count": 3,
     "metadata": {},
     "output_type": "execute_result"
    }
   ],
   "source": [
    "df = pd.read_csv('Responses.csv')\n",
    "print(df.columns)\n",
    "len(df)"
   ]
  },
  {
   "cell_type": "code",
   "execution_count": 7,
   "metadata": {},
   "outputs": [],
   "source": [
    "data = dict()\n",
    "for i in range(len(df)):\n",
    "    data[df['Rank'][i]] = dict()\n",
    "    data[df['Rank'][i]]['Name'] = df['Name'][i]\n",
    "    data[df['Rank'][i]]['Preferences'] = []\n",
    "    for j in range(11):\n",
    "        for center in centers:\n",
    "            if df['Preference order ['+center+']'][i] == j+1:\n",
    "                data[df['Rank'][i]]['Preferences'].append(center)\n",
    "                continue"
   ]
  },
  {
   "cell_type": "code",
   "execution_count": 25,
   "metadata": {},
   "outputs": [
    {
     "name": "stdout",
     "output_type": "stream",
     "text": [
      "Allocating 2 rank  => URSC (Preference Number : 1)\n",
      "Allocating 3 rank  => URSC (Preference Number : 1)\n",
      "Allocating 4 rank  => URSC (Preference Number : 1)\n",
      "Allocating 5 rank  => VSSC (Preference Number : 1)\n",
      "Allocating 6 rank  => SAC (Preference Number : 1)\n",
      "Allocating 7 rank  => VSSC (Preference Number : 1)\n",
      "Allocating 8 rank  => URSC (Preference Number : 1)\n",
      "Allocating 9 rank  => URSC (Preference Number : 1)\n",
      "Allocating 10 rank  => SAC (Preference Number : 1)\n",
      "Allocating 11 rank  => VSSC (Preference Number : 1)\n",
      "Allocating 12 rank  => SAC (Preference Number : 1)\n",
      "Allocating 13 rank  => NRSC (Preference Number : 3)\n",
      "Allocating 14 rank  => ISTRAC (Preference Number : 3)\n",
      "Allocating 15 rank  => VSSC (Preference Number : 1)\n",
      "Allocating 16 rank  => ISTRAC (Preference Number : 2)\n",
      "Allocating 17 rank  => VSSC (Preference Number : 3)\n",
      "Allocating 18 rank  => NRSC (Preference Number : 2)\n",
      "Allocating 19 rank  => LPSC (Preference Number : 2)\n",
      "Allocating 20 rank  => ISTRAC (Preference Number : 2)\n",
      "Allocating 21 rank  => SCL (Preference Number : 1)\n",
      "Allocating 22 rank  => ISTRAC (Preference Number : 2)\n",
      "Allocating 23 rank  => ISTRAC (Preference Number : 3)\n",
      "Allocating 24 rank  => SCL (Preference Number : 1)\n",
      "Allocating 25 rank  => ISTRAC (Preference Number : 1)\n",
      "Allocating 26 rank  => SDSC (Preference Number : 4)\n",
      "Allocating 27 rank  => PRL (Preference Number : 5)\n",
      "Allocating 28 rank  => PRL (Preference Number : 3)\n",
      "Allocating 29 rank  => SDSC (Preference Number : 4)\n",
      "Allocating 30 rank  => SDSC (Preference Number : 8)\n",
      "Allocating 31 rank  => MCF (Preference Number : 9)\n",
      "Allocating 32 rank  => SDSC (Preference Number : 10)\n",
      "Allocating 33 rank  => SDSC (Preference Number : 10)\n"
     ]
    },
    {
     "ename": "AttributeError",
     "evalue": "module 'matplotlib.pyplot' has no attribute 'x_range'",
     "output_type": "error",
     "traceback": [
      "\u001b[1;31m---------------------------------------------------------------------------\u001b[0m",
      "\u001b[1;31mAttributeError\u001b[0m                            Traceback (most recent call last)",
      "\u001b[1;32m<ipython-input-25-87e5775e159b>\u001b[0m in \u001b[0;36m<module>\u001b[1;34m()\u001b[0m\n\u001b[0;32m     17\u001b[0m \u001b[1;33m\u001b[0m\u001b[0m\n\u001b[0;32m     18\u001b[0m \u001b[0mplt\u001b[0m\u001b[1;33m.\u001b[0m\u001b[0mplot\u001b[0m\u001b[1;33m(\u001b[0m\u001b[0mhit_list\u001b[0m\u001b[1;33m)\u001b[0m\u001b[1;33m\u001b[0m\u001b[0m\n\u001b[1;32m---> 19\u001b[1;33m \u001b[0mplt\u001b[0m\u001b[1;33m.\u001b[0m\u001b[0mx_range\u001b[0m\u001b[1;33m(\u001b[0m\u001b[1;33m[\u001b[0m\u001b[1;36m1\u001b[0m\u001b[1;33m,\u001b[0m\u001b[1;36m11\u001b[0m\u001b[1;33m]\u001b[0m\u001b[1;33m)\u001b[0m\u001b[1;33m\u001b[0m\u001b[0m\n\u001b[0m\u001b[0;32m     20\u001b[0m \u001b[0mplt\u001b[0m\u001b[1;33m.\u001b[0m\u001b[0mshow\u001b[0m\u001b[1;33m(\u001b[0m\u001b[1;33m)\u001b[0m\u001b[1;33m\u001b[0m\u001b[0m\n",
      "\u001b[1;31mAttributeError\u001b[0m: module 'matplotlib.pyplot' has no attribute 'x_range'"
     ]
    },
    {
     "data": {
      "image/png": "[encoded data removed]",
      "text/plain": [
       "<Figure size 432x288 with 1 Axes>"
      ]
     },
     "metadata": {},
     "output_type": "display_data"
    }
   ],
   "source": [
    "Seat_Matrix_CC = Seat_Matrix.copy()\n",
    "hit_list = np.zeros(len(centers)+1)\n",
    "for rank in range(2,max_rank+1):\n",
    "    if rank in data.keys():\n",
    "        flag = True\n",
    "        i=0\n",
    "        while flag:\n",
    "            if Seat_Matrix_CC[data[rank]['Preferences'][i]]!=0:\n",
    "                print('Allocating %d rank '%(rank)+' => '+data[rank]['Preferences'][i]+' (Preference Number : %d)'%(i+1))\n",
    "                data[rank]['Allocation'] = data[rank]['Preferences'][i]\n",
    "                data[rank]['Choice_Number'] = i+1\n",
    "                Seat_Matrix_CC[data[rank]['Preferences'][i]] -= 1\n",
    "                flag = False\n",
    "                hit_list[i+1]+=1\n",
    "            i = i+1\n",
    "            \n",
    "\n",
    "plt.plot(hit_list)\n",
    "plt.x_range([1,11])\n",
    "plt.show()"
   ]
  },
  {
   "cell_type": "code",
   "execution_count": null,
   "metadata": {},
   "outputs": [],
   "source": [
    "df_out = dict()\n",
    "df_out['Name'] = []\n",
    "df_out['Rank'] = []\n",
    "df_out['Allocation'] = []\n",
    "for rank in range(2, max_rank):\n",
    "    if rank in data.keys():\n",
    "        df_out['Name'].append(data[rank]['Name'])\n",
    "        df_out['Allocation'].append(data[rank]['Allocation'])\n",
    "        df_out['Rank'].append(rank)\n",
    "df_out = pd.DataFrame(df_out)\n",
    "with open('Allocations.csv','w') as f:\n",
    "    df_out.to_csv(f)"
   ]
  }
 ],
 "metadata": {
  "kernelspec": {
   "display_name": "Python 3",
   "language": "python",
   "name": "python3"
  }
 },
 "nbformat": 4,
 "nbformat_minor": 2
}
